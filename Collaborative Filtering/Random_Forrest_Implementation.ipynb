{
  "nbformat": 4,
  "nbformat_minor": 0,
  "metadata": {
    "colab": {
      "provenance": []
    },
    "kernelspec": {
      "name": "python3",
      "display_name": "Python 3"
    },
    "language_info": {
      "name": "python"
    }
  },
  "cells": [
    {
      "cell_type": "markdown",
      "source": [
        "# Importing Libraries"
      ],
      "metadata": {
        "id": "01EphyAitKoZ"
      }
    },
    {
      "cell_type": "code",
      "source": [
        "import numpy as np\n",
        "import pandas as pd\n",
        "from sklearn.ensemble import RandomForestRegressor\n",
        "from sklearn.model_selection import train_test_split\n",
        "from sklearn.model_selection import ParameterSampler"
      ],
      "metadata": {
        "id": "0fGNe94xt7RZ"
      },
      "execution_count": 1,
      "outputs": []
    },
    {
      "cell_type": "markdown",
      "source": [
        "# Loading Data"
      ],
      "metadata": {
        "id": "eZCoZajBtbUG"
      }
    },
    {
      "cell_type": "code",
      "source": [
        "# Define function to load data\n",
        "def load_data(movies_path, ratings_path):\n",
        "    movies = pd.read_csv(movies_path)\n",
        "    ratings = pd.read_csv(ratings_path)\n",
        "    return movies, ratings\n",
        "\n",
        "# Load data\n",
        "movies_path = 'https://raw.githubusercontent.com/Bansal0527/Movie-Recomendation-System/main/Dataset/movies.csv'\n",
        "ratings_path = 'https://raw.githubusercontent.com/Bansal0527/Movie-Recomendation-System/master/Dataset/ratings.csv'\n",
        "movies, ratings = load_data(movies_path, ratings_path)"
      ],
      "metadata": {
        "id": "XgU2zA-wt9ns"
      },
      "execution_count": 2,
      "outputs": []
    },
    {
      "cell_type": "markdown",
      "source": [
        "# Data Preprocessing"
      ],
      "metadata": {
        "id": "Cir8TmcptdVA"
      }
    },
    {
      "cell_type": "code",
      "execution_count": 3,
      "metadata": {
        "colab": {
          "base_uri": "https://localhost:8080/"
        },
        "id": "UFvtiJajrxqX",
        "outputId": "cb4ed0ad-ecd7-4665-ad20-49eb92542a8d"
      },
      "outputs": [
        {
          "output_type": "stream",
          "name": "stdout",
          "text": [
            "Best parameters: {'min_user_votes': 15, 'min_movie_votes': 31}\n",
            "Best sparsity score: 0.9999416111038673\n"
          ]
        }
      ],
      "source": [
        "param_space = {\n",
        "    'min_user_votes': range(10, 101),\n",
        "    'min_movie_votes': range(30, 101)\n",
        "}\n",
        "n_iter = 100\n",
        "best_score = float('inf')\n",
        "best_params = None\n",
        "param_sampler = ParameterSampler(param_space, n_iter=n_iter, random_state=42)\n",
        "for params in param_sampler:\n",
        "    filtered_ratings = ratings.copy()\n",
        "    user_counts = filtered_ratings['userId'].value_counts()\n",
        "    movie_counts = filtered_ratings['movieId'].value_counts()\n",
        "    filtered_ratings = filtered_ratings[filtered_ratings['userId'].isin(user_counts[user_counts >= params['min_user_votes']].index)]\n",
        "    filtered_ratings = filtered_ratings[filtered_ratings['movieId'].isin(movie_counts[movie_counts >= params['min_movie_votes']].index)]\n",
        "    sparsity = 1 - len(filtered_ratings) / (len(ratings) * len(movies))\n",
        "    if sparsity < best_score:\n",
        "        best_score = sparsity\n",
        "        best_params = params\n",
        "\n",
        "print(\"Best parameters:\", best_params)\n",
        "print(\"Best sparsity score:\", best_score)\n",
        "\n",
        "def preprocess_data(ratings, min_user_votes = 15, min_movie_votes = 31):\n",
        "    user_counts = ratings['userId'].value_counts()\n",
        "    movie_counts = ratings['movieId'].value_counts()\n",
        "\n",
        "    ratings = ratings[ratings['userId'].isin(user_counts[user_counts >= min_user_votes].index)]\n",
        "    ratings = ratings[ratings['movieId'].isin(movie_counts[movie_counts >= min_movie_votes].index)]\n",
        "\n",
        "    final_dataset = ratings.pivot(index='movieId', columns='userId', values='rating').fillna(0)\n",
        "    return final_dataset\n",
        "\n",
        "final_dataset = preprocess_data(ratings)\n",
        "movies['genres'] = movies['genres'].str.replace('|', ' ')"
      ]
    },
    {
      "cell_type": "markdown",
      "source": [
        "# Training Model"
      ],
      "metadata": {
        "id": "mqWsIvUBuh6B"
      }
    },
    {
      "cell_type": "code",
      "source": [
        "# Split data into train and test sets (optional)\n",
        "train_data, test_data = train_test_split(final_dataset, test_size=0.2, random_state=42)\n",
        "\n",
        "# Train Random Forest model\n",
        "random_forest = RandomForestRegressor(n_estimators=100, random_state=42)"
      ],
      "metadata": {
        "id": "WGOwgj5pujzr"
      },
      "execution_count": 4,
      "outputs": []
    },
    {
      "cell_type": "markdown",
      "source": [
        "# Predicting Movies"
      ],
      "metadata": {
        "id": "q_yGywySuuv-"
      }
    },
    {
      "cell_type": "code",
      "source": [
        "# Split data into train and test sets (optional)\n",
        "train_data, test_data = train_test_split(final_dataset, test_size=0.2, random_state=42)\n",
        "\n",
        "# Train Random Forest model\n",
        "random_forest = RandomForestRegressor(n_estimators=100, random_state=42)\n",
        "\n",
        "# Function to suggest movies for a given user ID\n",
        "def suggest_movies_for_user(user_id, movies, model):\n",
        "    user_ratings = final_dataset[user_id]\n",
        "    unrated_movies = user_ratings[user_ratings == 0].index.tolist()  # Movies not rated by the user\n",
        "    predictions = model.predict(final_dataset.drop(columns=[user_id])).tolist()\n",
        "\n",
        "    # Create DataFrame with movie IDs and predicted ratings\n",
        "    suggestions = pd.DataFrame({'movieId': final_dataset.index, 'predicted_rating': predictions})\n",
        "\n",
        "    # Filter suggestions for unrated movies\n",
        "    suggestions = suggestions[suggestions['movieId'].isin(unrated_movies)]\n",
        "\n",
        "    # Merge with movies DataFrame to get movie titles\n",
        "    suggestions = suggestions.merge(movies, on='movieId')\n",
        "\n",
        "    # Sort suggestions by predicted rating in descending order\n",
        "    suggestions = suggestions.sort_values(by='predicted_rating', ascending=False)\n",
        "\n",
        "    return suggestions[['movieId', 'title', 'genres', 'predicted_rating']]\n",
        "\n",
        "# Example: Suggest movies for user with ID 1\n",
        "user_id = 1\n",
        "user_id_to_drop = user_id if user_id in final_dataset.columns else None\n",
        "random_forest.fit(final_dataset.drop(columns=[user_id_to_drop]), final_dataset[user_id])\n",
        "recommended_movies = suggest_movies_for_user(user_id, movies, random_forest)\n",
        "print(\"Recommended movies for user with ID\", user_id, \":\")\n",
        "print(recommended_movies.head(10))"
      ],
      "metadata": {
        "colab": {
          "base_uri": "https://localhost:8080/"
        },
        "id": "O7Mip3_YuuBz",
        "outputId": "bb6bb3a7-56c0-4d9b-8a4d-59306db22be0"
      },
      "execution_count": 5,
      "outputs": [
        {
          "output_type": "stream",
          "name": "stdout",
          "text": [
            "Recommended movies for user with ID 1 :\n",
            "     movieId                                      title  \\\n",
            "13        32  Twelve Monkeys (a.k.a. 12 Monkeys) (1995)   \n",
            "329     2762                    Sixth Sense, The (1999)   \n",
            "268     1968                 Breakfast Club, The (1985)   \n",
            "220     1387                                Jaws (1975)   \n",
            "337     2918            Ferris Bueller's Day Off (1986)   \n",
            "83       380                           True Lies (1994)   \n",
            "152      924               2001: A Space Odyssey (1968)   \n",
            "159     1036                            Die Hard (1988)   \n",
            "113      589          Terminator 2: Judgment Day (1991)   \n",
            "228     1527                  Fifth Element, The (1997)   \n",
            "\n",
            "                                       genres  predicted_rating  \n",
            "13                    Mystery Sci-Fi Thriller              1.45  \n",
            "329                      Drama Horror Mystery              1.41  \n",
            "268                              Comedy Drama              1.38  \n",
            "220                             Action Horror              1.37  \n",
            "337                                    Comedy              1.32  \n",
            "83   Action Adventure Comedy Romance Thriller              1.23  \n",
            "152                    Adventure Drama Sci-Fi              1.22  \n",
            "159                     Action Crime Thriller              1.20  \n",
            "113                             Action Sci-Fi              1.16  \n",
            "228            Action Adventure Comedy Sci-Fi              1.13  \n"
          ]
        }
      ]
    }
  ]
}