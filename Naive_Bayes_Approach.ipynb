{
 "cells": [
  {
   "cell_type": "markdown",
   "metadata": {},
   "source": [
    "# Importing Libraries"
   ]
  },
  {
   "cell_type": "code",
   "execution_count": 2,
   "metadata": {},
   "outputs": [],
   "source": [
    "import numpy as np\n",
    "import pandas as pd\n",
    "from sklearn.naive_bayes import MultinomialNB\n",
    "from sklearn.feature_extraction.text import TfidfVectorizer\n",
    "from sklearn.metrics.pairwise import cosine_similarity\n",
    "import re"
   ]
  },
  {
   "cell_type": "markdown",
   "metadata": {},
   "source": [
    "# Loading Data"
   ]
  },
  {
   "cell_type": "code",
   "execution_count": 3,
   "metadata": {},
   "outputs": [],
   "source": [
    "def load_data(movies_path, ratings_path):\n",
    "    movies = pd.read_csv(movies_path)\n",
    "    ratings = pd.read_csv(ratings_path)\n",
    "    return movies, ratings\n",
    "\n",
    "movies_path = 'https://raw.githubusercontent.com/Rakshitx1/Movie-Recomendation-System/master/Dataset/movies.csv'\n",
    "ratings_path = 'https://raw.githubusercontent.com/Rakshitx1/Movie-Recomendation-System/master/Dataset/ratings.csv'\n",
    "movies, ratings = load_data(movies_path, ratings_path)"
   ]
  },
  {
   "cell_type": "markdown",
   "metadata": {},
   "source": [
    "# Data Preprocessing"
   ]
  },
  {
   "cell_type": "markdown",
   "metadata": {},
   "source": [
    "preprocess_movie_name : Preprocesses the input movie name by removing extra spaces and non-alphanumeric characters.\n",
    "\n",
    "preprocess_movie_database : Preprocesses the movie database by removing extra spaces and non-alphanumeric characters from movie titles."
   ]
  },
  {
   "cell_type": "code",
   "execution_count": 4,
   "metadata": {},
   "outputs": [],
   "source": [
    "def preprocess_movie_name(movie_name):\n",
    "    return re.sub(r'\\W+', ' ', movie_name).strip()\n",
    "\n",
    "def preprocess_movie_database(movies_df):\n",
    "    movies_df['title'] = movies_df['title'].apply(lambda x: re.sub(r'\\W+', ' ', x).strip())\n",
    "    return movies_df"
   ]
  },
  {
   "cell_type": "markdown",
   "metadata": {},
   "source": [
    "We wouldn’t want movies that were rated by a small number of users because it’s not credible enough. Similarly, users who have rated only a handful of movies should also not be taken into account.\n",
    "\n",
    "To qualify a movie, a minimum of 10 users should have voted a movie.\n",
    "\n",
    "To qualify a user, a minimum of 50 movies should have voted by the user."
   ]
  },
  {
   "cell_type": "code",
   "execution_count": 5,
   "metadata": {},
   "outputs": [],
   "source": [
    "def preprocess_data(ratings, min_user_votes=50, min_movie_votes=10):\n",
    "    user_counts = ratings['userId'].value_counts()\n",
    "    movie_counts = ratings['movieId'].value_counts()\n",
    "    \n",
    "    ratings = ratings[ratings['userId'].isin(user_counts[user_counts >= min_user_votes].index)]\n",
    "    ratings = ratings[ratings['movieId'].isin(movie_counts[movie_counts >= min_movie_votes].index)]\n",
    "    \n",
    "    final_dataset = ratings.pivot(index='movieId', columns='userId', values='rating').fillna(0)\n",
    "    return final_dataset\n",
    "\n",
    "final_dataset = preprocess_data(ratings)"
   ]
  },
  {
   "cell_type": "code",
   "execution_count": 6,
   "metadata": {},
   "outputs": [],
   "source": [
    "# Merge movie genres into a single string\n",
    "movies['genres'] = movies['genres'].str.replace('|', ' ')"
   ]
  },
  {
   "cell_type": "markdown",
   "metadata": {},
   "source": [
    "# Training the Model"
   ]
  },
  {
   "cell_type": "markdown",
   "metadata": {},
   "source": [
    "We will apply Naive Bayes Model here using sklearn"
   ]
  },
  {
   "cell_type": "code",
   "execution_count": 7,
   "metadata": {},
   "outputs": [
    {
     "data": {
      "text/plain": [
       "MultinomialNB()"
      ]
     },
     "execution_count": 7,
     "metadata": {},
     "output_type": "execute_result"
    }
   ],
   "source": [
    "# Vectorize movie genres using TF-IDF\n",
    "tfidf_vectorizer = TfidfVectorizer()\n",
    "tfidf_matrix = tfidf_vectorizer.fit_transform(movies['genres'])\n",
    "\n",
    "# Train Naive Bayes classifier\n",
    "nb_model = MultinomialNB()\n",
    "nb_model.fit(tfidf_matrix, movies['title'])"
   ]
  },
  {
   "cell_type": "markdown",
   "metadata": {},
   "source": [
    "# Movie Recommendation"
   ]
  },
  {
   "cell_type": "markdown",
   "metadata": {},
   "source": [
    "This function takes a movie name, Naive Bayes model, TF-IDF vectorizer, movies dataframe, and optional parameter k (number of recommendations).\n",
    "\n",
    "It preprocesses the input movie name and the movie database to handle variations in movie titles, computes the similarity between the input movie and other movies based on their genres using cosine similarity, and returns the top k recommended movies along with their genres."
   ]
  },
  {
   "cell_type": "code",
   "execution_count": 8,
   "metadata": {},
   "outputs": [],
   "source": [
    "def get_movie_recommendation_nb(movie_name, model, vectorizer, movies_df, k=10):\n",
    "    movie_name = preprocess_movie_name(movie_name)\n",
    "    movies_df = preprocess_movie_database(movies_df)\n",
    "    movie_idx = movies_df[movies_df['title'].str.contains(movie_name, case=False)].index\n",
    "    if len(movie_idx) > 0:\n",
    "        movie_features = vectorizer.transform(movies_df.iloc[movie_idx]['genres'])\n",
    "        similarity_scores = cosine_similarity(movie_features, tfidf_matrix)\n",
    "        similar_movies_idx = np.argsort(similarity_scores[0])[::-1][1:k+1] \n",
    "        recommendations = movies_df.iloc[similar_movies_idx][['title', 'genres']]\n",
    "        return recommendations\n",
    "    else:\n",
    "        return \"No movies found. Please check your input.\""
   ]
  },
  {
   "cell_type": "code",
   "execution_count": 9,
   "metadata": {},
   "outputs": [],
   "source": [
    "# # Example usage with output presented as an HTML table\n",
    "# recommendations = get_movie_recommendation_nb('Iron Man 2', nb_model, tfidf_vectorizer, movies)\n",
    "# html_table = recommendations.to_html(index=False)\n",
    "# print(html_table)"
   ]
  },
  {
   "cell_type": "markdown",
   "metadata": {},
   "source": [
    "# Results"
   ]
  },
  {
   "cell_type": "code",
   "execution_count": 10,
   "metadata": {},
   "outputs": [
    {
     "name": "stdout",
     "output_type": "stream",
     "text": [
      "                                   title                genres\n",
      "1586  Ever After A Cinderella Story 1998  Comedy Drama Romance\n",
      "4906              Mad Dog and Glory 1993  Comedy Drama Romance\n",
      "4912                    Jersey Girl 2004  Comedy Drama Romance\n",
      "6781                   Wackness The 2008  Comedy Drama Romance\n",
      "4969            Pride and Prejudice 1940  Comedy Drama Romance\n",
      "6766                   Chaos Theory 2007  Comedy Drama Romance\n",
      "4994               He Said She Said 1991  Comedy Drama Romance\n",
      "8875                         5 to 7 2014  Comedy Drama Romance\n",
      "8876                         Afonya 1975  Comedy Drama Romance\n",
      "1384              Can t Hardly Wait 1998  Comedy Drama Romance\n"
     ]
    }
   ],
   "source": [
    "movie = str(input(\"Enter Movie: \"))\n",
    "recommendations = get_movie_recommendation_nb(movie, nb_model, tfidf_vectorizer, movies)\n",
    "print(recommendations)"
   ]
  }
 ],
 "metadata": {
  "kernelspec": {
   "display_name": "base",
   "language": "python",
   "name": "python3"
  },
  "language_info": {
   "codemirror_mode": {
    "name": "ipython",
    "version": 3
   },
   "file_extension": ".py",
   "mimetype": "text/x-python",
   "name": "python",
   "nbconvert_exporter": "python",
   "pygments_lexer": "ipython3",
   "version": "3.9.13"
  }
 },
 "nbformat": 4,
 "nbformat_minor": 2
}
